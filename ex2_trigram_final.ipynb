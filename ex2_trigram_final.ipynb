{
 "cells": [
  {
   "cell_type": "code",
   "execution_count": 20,
   "id": "17bba56a",
   "metadata": {},
   "outputs": [
    {
     "name": "stdout",
     "output_type": "stream",
     "text": [
      "number of examples:  260179\n",
      "size of train 208143 size of dev 26018 size of test 26018\n",
      "[0, 1e-05, 3.1622776601683795e-05, 0.0001, 0.00031622776601683794, 0.001, 0.0031622776601683794, 0.01, 0.03162277660168379]\n",
      "11.239598989486694 seconds have passed\n"
     ]
    },
    {
     "data": {
      "image/png": "[encoded data removed]",
      "text/plain": [
       "<Figure size 640x480 with 1 Axes>"
      ]
     },
     "metadata": {},
     "output_type": "display_data"
    }
   ],
   "source": [
    "### start of solution \n",
    "\n",
    "from torch import nn\n",
    "import torch\n",
    "from matplotlib import pyplot as plt\n",
    "import numpy as np\n",
    "import time as time\n",
    "\n",
    "device = torch.device(\"mps\")\n",
    "# device = torch.device(\"mps\") # training on mac comp, unccomment if you are too with latest nightly pytorch library\n",
    "words = open('names.txt', 'r').read().splitlines()\n",
    "\n",
    "chars = sorted(list(set(''.join(words))))\n",
    "stoi = {s:i+1 for i,s in enumerate(chars)}\n",
    "stoi['.'] = 0\n",
    "itos = {i:s for s,i in stoi.items()}\n",
    "\n",
    "xs, ys = [], []\n",
    "for w in words:\n",
    "    chs = ['.']*2 + list(w) + ['.']*2\n",
    "    for ch1, ch2, ch3 in zip(chs, chs[1:], chs[2:]):\n",
    "        xs.append(stoi[ch1]*27 + stoi[ch2])\n",
    "        ys.append(stoi[ch3])\n",
    "\n",
    "xs = torch.tensor(xs, device = device)        \n",
    "ys = torch.tensor(ys, device = device)\n",
    "\n",
    "num = ys.nelement()\n",
    "## split into train, dev and eval\n",
    "xs_train = xs[:(int)(num*0.8)]\n",
    "ys_train = ys[:(int)(num*0.8)]\n",
    " \n",
    "xs_dev = xs[(int)(num*0.8):(int)(num*0.9)]\n",
    "ys_dev = ys[(int)(num*0.8):(int)(num*0.9)]\n",
    "\n",
    "xs_eval = xs[(int)(num*0.9):]\n",
    "ys_eval = ys[(int)(num*0.9):]\n",
    "print('number of examples: ', num)\n",
    "print(f\"size of train {len(xs_train)} size of dev {len(xs_dev)} size of test {len(xs_eval)}\")\n",
    "#### trigram model with indexing\n",
    "g = torch.Generator().manual_seed(2147483647)\n",
    "curr = time.time()\n",
    "def get_loss(x, y, W, reg):\n",
    "    logits = W[x,:]\n",
    "    cel = nn.CrossEntropyLoss()\n",
    "    loss = cel(logits, y) + reg*(W**2).mean()\n",
    "    return loss\n",
    "\n",
    "def get_weights(xs, ys, reg):\n",
    "    \n",
    "    # initialize the 'network'\n",
    "    W = torch.randn((27*27, 27), generator=g, requires_grad=True, device = device)\n",
    "    for k in range(0,50):\n",
    "        loss = get_loss(xs, ys, W, reg)\n",
    "        # backward pass\n",
    "        W.grad = None # set to zero the gradient\n",
    "        loss.backward()\n",
    "        # update\n",
    "        W.data += -200 * W.grad\n",
    "    return W\n",
    "\n",
    "weights = [0] + [10.0**x for x in np.arange(-5,-1,0.5)]\n",
    "print(weights)\n",
    "train_losses = []\n",
    "dev_losses = []\n",
    "eval_losses = []\n",
    "for weight in weights:\n",
    "    W = get_weights(xs_train, ys_train, weight)\n",
    "    dev_losses.append(get_loss(xs_dev, ys_dev, W, 0).item())\n",
    "    train_losses.append(get_loss(xs_train, ys_train, W, 0).item())\n",
    "    eval_losses.append(get_loss(xs_eval, ys_eval, W, 0).item())\n",
    "print(f\"{time.time() - curr} seconds have passed\")\n",
    "plt.plot(weights, train_losses, label = 'train')\n",
    "plt.plot(weights, dev_losses, label = 'dev')\n",
    "plt.plot(weights, eval_losses, label = 'eval')\n",
    "plt.legend()\n",
    "plt.xscale(\"log\")\n",
    "                                            "
   ]
  },
  {
   "cell_type": "code",
   "execution_count": 25,
   "id": "aae3d327",
   "metadata": {},
   "outputs": [
    {
     "ename": "TypeError",
     "evalue": "Random.sample() got an unexpected keyword argument 'replacement'",
     "output_type": "error",
     "traceback": [
      "\u001b[0;31m---------------------------------------------------------------------------\u001b[0m",
      "\u001b[0;31mTypeError\u001b[0m                                 Traceback (most recent call last)",
      "Cell \u001b[0;32mIn[25], line 2\u001b[0m\n\u001b[1;32m      1\u001b[0m \u001b[38;5;28;01mimport\u001b[39;00m \u001b[38;5;21;01mrandom\u001b[39;00m\n\u001b[0;32m----> 2\u001b[0m \u001b[43mrandom\u001b[49m\u001b[38;5;241;43m.\u001b[39;49m\u001b[43msample\u001b[49m\u001b[43m(\u001b[49m\u001b[43m[\u001b[49m\u001b[38;5;241;43m4\u001b[39;49m\u001b[43m,\u001b[49m\u001b[38;5;241;43m1\u001b[39;49m\u001b[43m,\u001b[49m\u001b[38;5;241;43m4\u001b[39;49m\u001b[43m]\u001b[49m\u001b[43m,\u001b[49m\u001b[43m \u001b[49m\u001b[43mreplacement\u001b[49m\u001b[43m \u001b[49m\u001b[38;5;241;43m=\u001b[39;49m\u001b[43m \u001b[49m\u001b[38;5;28;43;01mFalse\u001b[39;49;00m\u001b[43m)\u001b[49m\n",
      "\u001b[0;31mTypeError\u001b[0m: Random.sample() got an unexpected keyword argument 'replacement'"
     ]
    }
   ],
   "source": [
    "import random\n",
    "random.sample([4,1,4], replacement = False)"
   ]
  },
  {
   "cell_type": "code",
   "execution_count": 14,
   "id": "e13e08fc",
   "metadata": {},
   "outputs": [
    {
     "name": "stdout",
     "output_type": "stream",
     "text": [
      "bafmyvi.\n",
      "cafutenalaree.\n",
      "rahndeson.\n",
      "jana.\n",
      "josedsfhopxxilea.\n",
      "bradiihineth.\n",
      "kiya.\n",
      "makyladaictzinufnn.\n",
      "li.\n",
      "charsbmgzsty.\n"
     ]
    }
   ],
   "source": [
    "# finally, sample from the 'neural net' model\n",
    "# g = torch.Generator().manual_seed(2147483647)\n",
    "W = get_weights(xs_train, ys_train, 0.01)\n",
    "for i in range(10):\n",
    "  \n",
    "  out = []\n",
    "  first_ix = 0\n",
    "  second_ix = 0\n",
    "  while True:\n",
    "    ix = first_ix*27 + second_ix\n",
    "    logits = W[ix,:]\n",
    "    counts = logits.exp() # counts, equivalent to N\n",
    "    p = counts / counts.sum()# probabilities for next character\n",
    "    # ----------\n",
    "\n",
    "    sampled_ix = torch.multinomial(p, num_samples=1, replacement=True).item()\n",
    "    out.append(itos[sampled_ix])\n",
    "    first_ix = second_ix\n",
    "    second_ix = sampled_ix\n",
    "    if sampled_ix == 0:\n",
    "      break\n",
    "  print(''.join(out))"
   ]
  }
 ],
 "metadata": {
  "kernelspec": {
   "display_name": "Python 3 (ipykernel)",
   "language": "python",
   "name": "python3"
  },
  "language_info": {
   "codemirror_mode": {
    "name": "ipython",
    "version": 3
   },
   "file_extension": ".py",
   "mimetype": "text/x-python",
   "name": "python",
   "nbconvert_exporter": "python",
   "pygments_lexer": "ipython3",
   "version": "3.10.6"
  }
 },
 "nbformat": 4,
 "nbformat_minor": 5
}
